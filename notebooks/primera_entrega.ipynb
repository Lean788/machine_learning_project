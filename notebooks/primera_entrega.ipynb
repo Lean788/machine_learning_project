{
 "cells": [
  {
   "cell_type": "code",
   "execution_count": 16,
   "metadata": {},
   "outputs": [],
   "source": [
    "# Tratamiento de datos\n",
    "# ==============================================================================\n",
    "import numpy as np\n",
    "import pandas as pd\n",
    "import statsmodels.api as sm\n",
    "import missingno as mss\n",
    "import re\n",
    "\n",
    "# Gráficos\n",
    "# ==============================================================================\n",
    "import matplotlib.pyplot as plt\n",
    "import matplotlib.font_manager\n",
    "from matplotlib import style\n",
    "import seaborn as sns\n",
    "style.use('ggplot') or plt.style.use('ggplot')\n",
    "\n",
    "# Análisis de los textos\n",
    "# ==============================================================================\n",
    "from textblob import TextBlob\n",
    "\n",
    "# Preprocesado y modelado\n",
    "# ==============================================================================\n",
    "# from sklearn.decomposition import PCA\n",
    "# from sklearn.pipeline import make_pipeline\n",
    "from collections import Counter\n",
    "from sklearn.preprocessing import StandardScaler, MinMaxScaler, PolynomialFeatures\n",
    "from sklearn.model_selection import train_test_split\n",
    "from sklearn.neighbors import KNeighborsClassifier\n",
    "from sklearn.metrics import classification_report\n",
    "from sklearn.metrics import confusion_matrix\n",
    "from sklearn.tree import DecisionTreeRegressor, DecisionTreeClassifier\n",
    "from sklearn.metrics import mean_absolute_error, mean_absolute_percentage_error, mean_squared_error, r2_score\n",
    "from sklearn.model_selection import GridSearchCV\n",
    "from sklearn.metrics import accuracy_score, confusion_matrix, roc_auc_score\n",
    "from sklearn.linear_model import LogisticRegression\n",
    "from sklearn.model_selection import cross_val_score\n",
    "from sklearn.metrics import roc_curve\n",
    "from sklearn.ensemble import RandomForestClassifier\n",
    "from sklearn.decomposition import PCA\n",
    "from sklearn.feature_selection import SelectKBest, f_regression\n",
    "from scipy.stats.stats import pearsonr, skew\n",
    "from scipy.stats import shapiro\n",
    "from imblearn.over_sampling import RandomOverSampler\n",
    "from imblearn.over_sampling import SMOTE\n",
    "from imblearn.under_sampling import RandomUnderSampler\n",
    "from imblearn.pipeline import Pipeline\n",
    "from sklearn.impute import SimpleImputer\n",
    "from sklearn.tree import DecisionTreeRegressor\n",
    "from sklearn.linear_model import LinearRegression, Ridge, Lasso, ElasticNet\n",
    "from sklearn.ensemble import RandomForestRegressor\n",
    "from sklearn.model_selection import cross_val_score\n",
    "# from sklearn.preprocessing import scale\n",
    "\n",
    "# Configuración importación de funciones\n",
    "# ==============================================================================\n",
    "\n",
    "\n",
    "import os\n",
    "import sys\n",
    "\n",
    "current_dir = os.getcwd()\n",
    "utils_dir = os.path.join(current_dir, '../utils')\n",
    "sys.path.append(utils_dir)\n",
    "\n",
    "from functions import save_model\n",
    "\n",
    "# Importación de funciones\n",
    "# ==============================================================================\n",
    "from functions import *\n",
    "\n",
    "# Configuración warnings\n",
    "# ==============================================================================\n",
    "import warnings\n",
    "warnings.filterwarnings('ignore')\n",
    "\n",
    "# Configuración visualización de data\n",
    "# ==============================================================================\n",
    "pd.options.display.max_rows = 35\n",
    "pd.options.display.max_columns = 35\n",
    "pd.options.display.max_colwidth = 50"
   ]
  },
  {
   "attachments": {},
   "cell_type": "markdown",
   "metadata": {},
   "source": [
    "**- Aquí he traido todo lo que ejecuté en la memoria para la primera entrega, pero no es relevante, ya que se ha realizado un trabajo más extenso allí.**"
   ]
  },
  {
   "cell_type": "markdown",
   "metadata": {},
   "source": [
    "### Separación de las variables que usaremos para el primer modelo"
   ]
  },
  {
   "cell_type": "code",
   "execution_count": null,
   "metadata": {},
   "outputs": [],
   "source": [
    "df = data[['reviews.rating', 'reviews.text', 'reviews.title']]"
   ]
  },
  {
   "cell_type": "code",
   "execution_count": null,
   "metadata": {},
   "outputs": [
    {
     "name": "stdout",
     "output_type": "stream",
     "text": [
      "<class 'pandas.core.frame.DataFrame'>\n",
      "RangeIndex: 10000 entries, 0 to 9999\n",
      "Data columns (total 3 columns):\n",
      " #   Column          Non-Null Count  Dtype  \n",
      "---  ------          --------------  -----  \n",
      " 0   reviews.rating  10000 non-null  float64\n",
      " 1   reviews.text    10000 non-null  object \n",
      " 2   reviews.title   9999 non-null   object \n",
      "dtypes: float64(1), object(2)\n",
      "memory usage: 234.5+ KB\n"
     ]
    }
   ],
   "source": [
    "df.info()"
   ]
  },
  {
   "cell_type": "code",
   "execution_count": null,
   "metadata": {},
   "outputs": [],
   "source": []
  },
  {
   "cell_type": "markdown",
   "metadata": {},
   "source": [
    "## Preparamos el Modelado"
   ]
  },
  {
   "cell_type": "code",
   "execution_count": null,
   "metadata": {},
   "outputs": [],
   "source": [
    "features = df[['ValueSentiment', 'wordCount']]"
   ]
  },
  {
   "cell_type": "code",
   "execution_count": null,
   "metadata": {},
   "outputs": [
    {
     "name": "stdout",
     "output_type": "stream",
     "text": [
      "(8000, 2)\n",
      "(2000, 2)\n",
      "(8000,)\n",
      "(2000,)\n"
     ]
    }
   ],
   "source": [
    "seed = 10\n",
    "\n",
    "X = features\n",
    "y = df['reviews.rating']\n",
    "\n",
    "X_train, X_test, y_train, y_test = train_test_split(X,y, test_size=0.2, random_state=seed)\n",
    "\n",
    "print(X_train.shape)\n",
    "print(X_test.shape)\n",
    "print(y_train.shape)\n",
    "print(y_test.shape)"
   ]
  },
  {
   "cell_type": "code",
   "execution_count": null,
   "metadata": {},
   "outputs": [],
   "source": [
    "scaler = MinMaxScaler()\n",
    "X_train_scal = scaler.fit_transform(X_train)\n",
    "X_test_scal = scaler.transform(X_test)"
   ]
  },
  {
   "cell_type": "code",
   "execution_count": null,
   "metadata": {},
   "outputs": [],
   "source": [
    "# Se redondea porque el modelo KNN espera que los valores de y sean discretos.\n",
    "y_train = np.round(y_train)\n",
    "y_test = np.round(y_test)"
   ]
  },
  {
   "cell_type": "code",
   "execution_count": null,
   "metadata": {},
   "outputs": [
    {
     "name": "stdout",
     "output_type": "stream",
     "text": [
      "[4. 3. 4. ... 3. 5. 5.]\n"
     ]
    }
   ],
   "source": [
    "# Creamos el modelo\n",
    "\n",
    "\n",
    "knn = KNeighborsClassifier(n_neighbors=23, weights= 'distance')\n",
    "\n",
    "knn.fit(X_train_scal, y_train)\n",
    "\n",
    "prediction = knn.predict(X_test_scal)\n",
    "print(prediction)"
   ]
  },
  {
   "cell_type": "code",
   "execution_count": null,
   "metadata": {},
   "outputs": [
    {
     "name": "stdout",
     "output_type": "stream",
     "text": [
      "K= 1\n",
      "[2. 3. 5. ... 3. 4. 5.]\n",
      "--------------------------------------------------\n",
      "K= 2\n",
      "[2. 3. 4. ... 3. 4. 4.]\n",
      "--------------------------------------------------\n",
      "K= 3\n",
      "[2. 5. 4. ... 3. 4. 1.]\n",
      "--------------------------------------------------\n",
      "K= 4\n",
      "[4. 5. 4. ... 3. 4. 5.]\n",
      "--------------------------------------------------\n",
      "K= 5\n",
      "[4. 5. 4. ... 3. 4. 5.]\n",
      "--------------------------------------------------\n",
      "K= 6\n",
      "[4. 5. 4. ... 3. 4. 5.]\n",
      "--------------------------------------------------\n",
      "K= 7\n",
      "[4. 5. 4. ... 3. 4. 4.]\n",
      "--------------------------------------------------\n",
      "K= 8\n",
      "[3. 5. 4. ... 3. 4. 5.]\n",
      "--------------------------------------------------\n",
      "K= 9\n",
      "[4. 5. 4. ... 3. 4. 5.]\n",
      "--------------------------------------------------\n",
      "K= 10\n",
      "[3. 5. 4. ... 3. 4. 5.]\n",
      "--------------------------------------------------\n",
      "K= 11\n",
      "[3. 5. 4. ... 3. 4. 5.]\n",
      "--------------------------------------------------\n",
      "K= 12\n",
      "[3. 5. 4. ... 4. 5. 5.]\n",
      "--------------------------------------------------\n",
      "K= 13\n",
      "[3. 5. 4. ... 4. 5. 5.]\n",
      "--------------------------------------------------\n",
      "K= 14\n",
      "[3. 5. 4. ... 4. 5. 5.]\n",
      "--------------------------------------------------\n",
      "K= 15\n",
      "[3. 5. 4. ... 4. 5. 5.]\n",
      "--------------------------------------------------\n",
      "K= 16\n",
      "[4. 5. 4. ... 4. 5. 5.]\n",
      "--------------------------------------------------\n",
      "K= 17\n",
      "[4. 5. 4. ... 4. 5. 5.]\n",
      "--------------------------------------------------\n",
      "K= 18\n",
      "[4. 5. 4. ... 4. 5. 5.]\n",
      "--------------------------------------------------\n",
      "K= 19\n",
      "[4. 5. 4. ... 4. 5. 5.]\n",
      "--------------------------------------------------\n",
      "K= 20\n",
      "[4. 5. 4. ... 4. 5. 5.]\n",
      "--------------------------------------------------\n",
      "K= 21\n",
      "[4. 5. 4. ... 4. 5. 5.]\n",
      "--------------------------------------------------\n",
      "K= 22\n",
      "[4. 5. 4. ... 4. 5. 5.]\n",
      "--------------------------------------------------\n",
      "K= 23\n",
      "[4. 5. 4. ... 4. 5. 5.]\n",
      "--------------------------------------------------\n",
      "K= 24\n",
      "[4. 5. 4. ... 4. 5. 5.]\n",
      "--------------------------------------------------\n",
      "K= 25\n",
      "[4. 5. 4. ... 4. 5. 5.]\n",
      "--------------------------------------------------\n",
      "K= 26\n",
      "[4. 5. 4. ... 4. 5. 5.]\n",
      "--------------------------------------------------\n",
      "K= 27\n",
      "[3. 5. 4. ... 4. 5. 5.]\n",
      "--------------------------------------------------\n",
      "K= 28\n",
      "[3. 5. 4. ... 4. 5. 5.]\n",
      "--------------------------------------------------\n",
      "K= 29\n",
      "[3. 5. 4. ... 4. 5. 5.]\n",
      "--------------------------------------------------\n",
      "K= 30\n",
      "[3. 5. 4. ... 4. 5. 5.]\n",
      "--------------------------------------------------\n"
     ]
    }
   ],
   "source": [
    "scores = []\n",
    "k_range = range(1,31)\n",
    "for k in k_range:\n",
    "    knn = KNeighborsClassifier(n_neighbors=k)\n",
    "    knn.fit(X_train_scal, y_train)\n",
    "    print('K=',k)\n",
    "    print(knn.predict(X_test_scal))\n",
    "    print('-'*50)\n",
    "    scores.append(knn.score(X_test_scal, y_test))"
   ]
  },
  {
   "cell_type": "code",
   "execution_count": null,
   "metadata": {},
   "outputs": [
    {
     "data": {
      "image/png": "[encoded data removed]",
      "text/plain": [
       "<Figure size 1700x600 with 1 Axes>"
      ]
     },
     "metadata": {},
     "output_type": "display_data"
    }
   ],
   "source": [
    "plt.figure(figsize = (17, 6))\n",
    "sns.scatterplot(x=k_range, y=scores)\n",
    "plt.xlabel(\"k\")\n",
    "plt.ylabel(\"Precisión\")\n",
    "plt.title(\"Relación entre k y la precisión en el modelo KNN\")\n",
    "plt.xticks(np.arange(0, 31))\n",
    "plt.show();"
   ]
  },
  {
   "cell_type": "markdown",
   "metadata": {},
   "source": [
    "**Incluso haciendo observando los K valores hasta 60, no sube más allá del 51...52% de precisión.**"
   ]
  },
  {
   "cell_type": "code",
   "execution_count": null,
   "metadata": {},
   "outputs": [
    {
     "name": "stdout",
     "output_type": "stream",
     "text": [
      "Accuracy de KNN classifier sobre los datos de entrenamiento: 0.53\n",
      "Accuracy de KNN classifier sobre los datos de test: 0.50\n"
     ]
    }
   ],
   "source": [
    "# Evaluando el modelo\n",
    "\n",
    "print('Accuracy de KNN classifier sobre los datos de entrenamiento: {:.2f}'\n",
    "     .format(knn.score(X_train_scal, y_train)))\n",
    "print('Accuracy de KNN classifier sobre los datos de test: {:.2f}'\n",
    "     .format(knn.score(X_test_scal, y_test)))"
   ]
  },
  {
   "cell_type": "code",
   "execution_count": null,
   "metadata": {},
   "outputs": [
    {
     "name": "stdout",
     "output_type": "stream",
     "text": [
      "[[ 44   8  27  14  20]\n",
      " [ 25  12  31  21  27]\n",
      " [ 25  10  40  57 125]\n",
      " [ 10   8  43 125 370]\n",
      " [  4   1  33 148 772]]\n",
      " \n",
      "--------------------------------------------------\n",
      " \n",
      "              precision    recall  f1-score   support\n",
      "\n",
      "         1.0       0.41      0.39      0.40       113\n",
      "         2.0       0.31      0.10      0.15       116\n",
      "         3.0       0.23      0.16      0.19       257\n",
      "         4.0       0.34      0.22      0.27       556\n",
      "         5.0       0.59      0.81      0.68       958\n",
      "\n",
      "    accuracy                           0.50      2000\n",
      "   macro avg       0.37      0.34      0.34      2000\n",
      "weighted avg       0.45      0.50      0.46      2000\n",
      "\n"
     ]
    }
   ],
   "source": [
    "# Matriz de confusión\n",
    "\n",
    "pred = knn.predict(X_test_scal)\n",
    "print(confusion_matrix(y_test, pred))\n",
    "print(' ')\n",
    "print('-'*50)\n",
    "print(' ')\n",
    "print(classification_report(y_test, pred))"
   ]
  },
  {
   "cell_type": "code",
   "execution_count": null,
   "metadata": {},
   "outputs": [],
   "source": [
    "# Guardar el modelo\n",
    "import pickle\n",
    "\n",
    "with open('knn_model.pkl', \"wb\") as archivo_salida:\n",
    "    pickle.dump(knn, archivo_salida)"
   ]
  },
  {
   "cell_type": "code",
   "execution_count": null,
   "metadata": {},
   "outputs": [],
   "source": [
    "y_test.to_csv('./y_test.csv', encoding='utf-8', index=False)"
   ]
  },
  {
   "cell_type": "code",
   "execution_count": null,
   "metadata": {},
   "outputs": [],
   "source": [
    "X_test.to_csv('./X_test.csv', encoding='utf-8', index=False)\n"
   ]
  },
  {
   "cell_type": "markdown",
   "metadata": {},
   "source": [
    "----------------------------------------------------------------------------------------------------\n",
    "----------------------------------------------------------------------------------------------------"
   ]
  },
  {
   "cell_type": "markdown",
   "metadata": {},
   "source": [
    "### Decission Tree"
   ]
  },
  {
   "cell_type": "code",
   "execution_count": null,
   "metadata": {},
   "outputs": [
    {
     "data": {
      "text/plain": [
       "DecisionTreeRegressor()"
      ]
     },
     "metadata": {},
     "output_type": "display_data"
    }
   ],
   "source": [
    "# Entrenamiento del modelo\n",
    "\n",
    "dtr = DecisionTreeRegressor()\n",
    "dtr.fit(X_train, y_train)"
   ]
  },
  {
   "cell_type": "code",
   "execution_count": null,
   "metadata": {},
   "outputs": [
    {
     "data": {
      "text/plain": [
       "0.9279638964287991"
      ]
     },
     "metadata": {},
     "output_type": "display_data"
    }
   ],
   "source": [
    "dtr.score(X_train, y_train)\n"
   ]
  },
  {
   "cell_type": "code",
   "execution_count": null,
   "metadata": {},
   "outputs": [
    {
     "name": "stdout",
     "output_type": "stream",
     "text": [
      "R2 -0.21671684633707788\n",
      "MAE 0.8932562229437229\n",
      "MAPE 0.31562730970418473\n",
      "MSE 1.6349936801866065\n",
      "RMSE 1.2786687140094601\n"
     ]
    }
   ],
   "source": [
    "y_pred = dtr.predict(X_test)\n",
    "\n",
    "print(\"R2\", r2_score(y_test, y_pred))\n",
    "print(\"MAE\", mean_absolute_error(y_test, y_pred))\n",
    "print(\"MAPE\", mean_absolute_percentage_error(y_test, y_pred))\n",
    "print(\"MSE\", mean_squared_error(y_test, y_pred))\n",
    "print(\"RMSE\", np.sqrt(mean_squared_error(y_test, y_pred)))"
   ]
  },
  {
   "cell_type": "code",
   "execution_count": null,
   "metadata": {},
   "outputs": [],
   "source": [
    "# Guardar el modelo\n",
    "import pickle\n",
    "\n",
    "with open('dtr_model.pkl', \"wb\") as archivo_salida:\n",
    "    pickle.dump(dtr, archivo_salida)"
   ]
  },
  {
   "cell_type": "markdown",
   "metadata": {},
   "source": [
    "----------------------------------------------------------------------------------"
   ]
  },
  {
   "cell_type": "code",
   "execution_count": null,
   "metadata": {},
   "outputs": [],
   "source": [
    "# ARBOL DE DECISION\n",
    "grid_arbol = {\"max_depth\":list(range(1,10)) # Profundidades del árbol. Cuanto más profundo, mas posibilidades de overfitting,\n",
    "                                            # pero  mas preciso en entrenamiento.\n",
    "              }"
   ]
  },
  {
   "cell_type": "code",
   "execution_count": null,
   "metadata": {},
   "outputs": [
    {
     "name": "stdout",
     "output_type": "stream",
     "text": [
      "Mejores parámetros:  {'max_depth': 6}\n",
      "Precisión media:  0.3536170239345015\n"
     ]
    }
   ],
   "source": [
    "# Realizar GridSearchCV\n",
    "grid_search = GridSearchCV(dtr, grid_arbol, cv=10)\n",
    "grid_search.fit(X_train, y_train)\n",
    "\n",
    "# Imprimir los mejores parámetros\n",
    "print(\"Mejores parámetros: \", grid_search.best_params_)\n",
    "\n",
    "# Imprimir la puntuación de precisión media\n",
    "print(\"Precisión media: \", grid_search.best_score_)"
   ]
  },
  {
   "cell_type": "code",
   "execution_count": null,
   "metadata": {},
   "outputs": [
    {
     "data": {
      "text/plain": [
       "DecisionTreeRegressor(max_depth=6)"
      ]
     },
     "metadata": {},
     "output_type": "display_data"
    }
   ],
   "source": [
    "grid_search.best_estimator_"
   ]
  },
  {
   "cell_type": "code",
   "execution_count": null,
   "metadata": {},
   "outputs": [
    {
     "data": {
      "text/plain": [
       "DecisionTreeRegressor(max_depth=6)"
      ]
     },
     "metadata": {},
     "output_type": "display_data"
    }
   ],
   "source": [
    "dtr_2 = DecisionTreeRegressor(max_depth=6)\n",
    "dtr_2.fit(X_train, y_train)"
   ]
  },
  {
   "cell_type": "code",
   "execution_count": null,
   "metadata": {},
   "outputs": [
    {
     "data": {
      "text/plain": [
       "0.4009096652754798"
      ]
     },
     "metadata": {},
     "output_type": "display_data"
    }
   ],
   "source": [
    "dtr_2.score(X_train, y_train)\n"
   ]
  },
  {
   "cell_type": "code",
   "execution_count": null,
   "metadata": {},
   "outputs": [
    {
     "name": "stdout",
     "output_type": "stream",
     "text": [
      "R2 0.34020146436903087\n",
      "MAE 0.7414201979069537\n",
      "MAPE 0.2752522875754046\n",
      "MSE 0.8866207772175055\n",
      "RMSE 0.9416054254397144\n"
     ]
    }
   ],
   "source": [
    "y_pred = dtr_2.predict(X_test)\n",
    "\n",
    "print(\"R2\", r2_score(y_test, y_pred))\n",
    "print(\"MAE\", mean_absolute_error(y_test, y_pred))\n",
    "print(\"MAPE\", mean_absolute_percentage_error(y_test, y_pred))\n",
    "print(\"MSE\", mean_squared_error(y_test, y_pred))\n",
    "print(\"RMSE\", np.sqrt(mean_squared_error(y_test, y_pred)))"
   ]
  },
  {
   "cell_type": "code",
   "execution_count": null,
   "metadata": {},
   "outputs": [],
   "source": [
    "dtr_3 = DecisionTreeRegressor()\n",
    "\n",
    "parameters = {\"max_depth\": [2,3,4,5],\n",
    "              \"criterion\": ['squared_error', 'absolute_error'],\n",
    "              \"min_samples_split\": [2,5,10,15],\n",
    "              \"min_samples_leaf\": [2,4,6,8,10],\n",
    "              \"max_features\": [1,2,3,4]          \n",
    "             }\n",
    "\n",
    "dtr_gs = GridSearchCV(dtr_3, parameters, cv=10, scoring=\"neg_mean_absolute_error\")"
   ]
  },
  {
   "cell_type": "code",
   "execution_count": null,
   "metadata": {},
   "outputs": [
    {
     "data": {
      "text/plain": [
       "GridSearchCV(cv=10, estimator=DecisionTreeRegressor(),\n",
       "             param_grid={'criterion': ['squared_error', 'absolute_error'],\n",
       "                         'max_depth': [2, 3, 4, 5],\n",
       "                         'max_features': [1, 2, 3, 4],\n",
       "                         'min_samples_leaf': [2, 4, 6, 8, 10],\n",
       "                         'min_samples_split': [2, 5, 10, 15]},\n",
       "             scoring='neg_mean_absolute_error')"
      ]
     },
     "metadata": {},
     "output_type": "display_data"
    }
   ],
   "source": [
    "dtr_gs.fit(X_train, y_train)\n"
   ]
  },
  {
   "cell_type": "code",
   "execution_count": null,
   "metadata": {},
   "outputs": [
    {
     "data": {
      "text/plain": [
       "DecisionTreeRegressor(criterion='absolute_error', max_depth=5, max_features=2,\n",
       "                      min_samples_leaf=6)"
      ]
     },
     "metadata": {},
     "output_type": "display_data"
    }
   ],
   "source": [
    "dtr_gs.best_estimator_"
   ]
  },
  {
   "cell_type": "code",
   "execution_count": null,
   "metadata": {},
   "outputs": [
    {
     "data": {
      "text/plain": [
       "{'criterion': 'absolute_error',\n",
       " 'max_depth': 5,\n",
       " 'max_features': 2,\n",
       " 'min_samples_leaf': 6,\n",
       " 'min_samples_split': 2}"
      ]
     },
     "metadata": {},
     "output_type": "display_data"
    }
   ],
   "source": [
    "dtr_gs.best_params_"
   ]
  },
  {
   "cell_type": "code",
   "execution_count": null,
   "metadata": {},
   "outputs": [
    {
     "data": {
      "text/plain": [
       "-0.665625"
      ]
     },
     "metadata": {},
     "output_type": "display_data"
    }
   ],
   "source": [
    "dtr_gs.best_score_"
   ]
  },
  {
   "cell_type": "code",
   "execution_count": null,
   "metadata": {},
   "outputs": [
    {
     "data": {
      "text/plain": [
       "0.67"
      ]
     },
     "metadata": {},
     "output_type": "display_data"
    }
   ],
   "source": [
    "mean_absolute_error(y_test, dtr_gs.best_estimator_.predict(X_test))\n"
   ]
  },
  {
   "cell_type": "code",
   "execution_count": null,
   "metadata": {},
   "outputs": [
    {
     "name": "stdout",
     "output_type": "stream",
     "text": [
      "R2 0.33645359445593337\n",
      "MAE 0.7462893912961525\n",
      "MAPE 0.27890599763782925\n",
      "MSE 0.891657071109978\n",
      "RMSE 0.9442759507209627\n"
     ]
    }
   ],
   "source": [
    "dtr = DecisionTreeRegressor(max_depth=5, max_features=2, min_samples_leaf=6, min_samples_split=2)\n",
    "dtr.fit(X_train, y_train)\n",
    "\n",
    "y_pred = dtr.predict(X_test)\n",
    "\n",
    "print(\"R2\", r2_score(y_test, y_pred))\n",
    "print(\"MAE\", mean_absolute_error(y_test, y_pred))\n",
    "print(\"MAPE\", mean_absolute_percentage_error(y_test, y_pred))\n",
    "print(\"MSE\", mean_squared_error(y_test, y_pred))\n",
    "print(\"RMSE\", np.sqrt(mean_squared_error(y_test, y_pred)))"
   ]
  },
  {
   "cell_type": "markdown",
   "metadata": {},
   "source": [
    "----------------------------------------------------------------------------------------------------\n",
    "----------------------------------------------------------------------------------------------------"
   ]
  },
  {
   "cell_type": "markdown",
   "metadata": {},
   "source": [
    "### Logistic Regression"
   ]
  },
  {
   "cell_type": "code",
   "execution_count": null,
   "metadata": {},
   "outputs": [
    {
     "data": {
      "text/plain": [
       "LogisticRegression()"
      ]
     },
     "metadata": {},
     "output_type": "display_data"
    }
   ],
   "source": [
    "log_reg = LogisticRegression()\n",
    "log_reg.fit(X_train_scal, y_train)"
   ]
  },
  {
   "cell_type": "code",
   "execution_count": null,
   "metadata": {},
   "outputs": [],
   "source": [
    "log_reg_cv = LogisticRegression()\n",
    "\n",
    "cv_results = cross_val_score(log_reg_cv, X_train_scal, y_train, cv=5, scoring=\"accuracy\")"
   ]
  },
  {
   "cell_type": "code",
   "execution_count": null,
   "metadata": {},
   "outputs": [
    {
     "data": {
      "text/plain": [
       "array([0.500625, 0.485   , 0.493125, 0.495625, 0.486875])"
      ]
     },
     "metadata": {},
     "output_type": "display_data"
    }
   ],
   "source": [
    "cv_results\n"
   ]
  },
  {
   "cell_type": "code",
   "execution_count": null,
   "metadata": {},
   "outputs": [
    {
     "data": {
      "text/plain": [
       "0.49225"
      ]
     },
     "metadata": {},
     "output_type": "display_data"
    }
   ],
   "source": [
    "cv_results.mean()\n"
   ]
  },
  {
   "cell_type": "code",
   "execution_count": null,
   "metadata": {},
   "outputs": [
    {
     "data": {
      "text/plain": [
       "0.005722761571129794"
      ]
     },
     "metadata": {},
     "output_type": "display_data"
    }
   ],
   "source": [
    "cv_results.std()\n"
   ]
  },
  {
   "cell_type": "code",
   "execution_count": null,
   "metadata": {},
   "outputs": [],
   "source": [
    "y_pred = log_reg.predict(X_test_scal)\n"
   ]
  },
  {
   "cell_type": "code",
   "execution_count": null,
   "metadata": {},
   "outputs": [
    {
     "data": {
      "text/plain": [
       "array([[0.28318584, 0.        , 0.23893805, 0.22123894, 0.25663717],\n",
       "       [0.10344828, 0.        , 0.22413793, 0.29310345, 0.37931034],\n",
       "       [0.04280156, 0.        , 0.11673152, 0.17898833, 0.6614786 ],\n",
       "       [0.01258993, 0.        , 0.03057554, 0.11510791, 0.84172662],\n",
       "       [0.00417537, 0.        , 0.00417537, 0.05219207, 0.9394572 ]])"
      ]
     },
     "metadata": {},
     "output_type": "display_data"
    }
   ],
   "source": [
    "conf_mat = confusion_matrix(y_test, y_pred, normalize = 'true')\n",
    "conf_mat"
   ]
  },
  {
   "cell_type": "code",
   "execution_count": null,
   "metadata": {},
   "outputs": [
    {
     "data": {
      "text/plain": [
       "0.513"
      ]
     },
     "metadata": {},
     "output_type": "display_data"
    }
   ],
   "source": [
    "accuracy_score(y_test, y_pred)\n"
   ]
  },
  {
   "cell_type": "code",
   "execution_count": null,
   "metadata": {},
   "outputs": [
    {
     "name": "stdout",
     "output_type": "stream",
     "text": [
      "[[ 32   0  27  25  29]\n",
      " [ 12   0  26  34  44]\n",
      " [ 11   0  30  46 170]\n",
      " [  7   0  17  64 468]\n",
      " [  4   0   4  50 900]]\n",
      " \n",
      "--------------------------------------------------\n",
      " \n",
      "              precision    recall  f1-score   support\n",
      "\n",
      "         1.0       0.48      0.28      0.36       113\n",
      "         2.0       0.00      0.00      0.00       116\n",
      "         3.0       0.29      0.12      0.17       257\n",
      "         4.0       0.29      0.12      0.17       556\n",
      "         5.0       0.56      0.94      0.70       958\n",
      "\n",
      "    accuracy                           0.51      2000\n",
      "   macro avg       0.32      0.29      0.28      2000\n",
      "weighted avg       0.41      0.51      0.42      2000\n",
      "\n"
     ]
    }
   ],
   "source": [
    "# Matriz de confusión\n",
    "\n",
    "pred = log_reg.predict(X_test_scal)\n",
    "print(confusion_matrix(y_test, pred))\n",
    "print(' ')\n",
    "print('-'*50)\n",
    "print(' ')\n",
    "print(classification_report(y_test, pred))"
   ]
  },
  {
   "cell_type": "markdown",
   "metadata": {},
   "source": [
    "----------------------------------------------------------------------------------------------------\n",
    "----------------------------------------------------------------------------------------------------"
   ]
  },
  {
   "cell_type": "markdown",
   "metadata": {},
   "source": [
    "### Random Forest"
   ]
  },
  {
   "cell_type": "code",
   "execution_count": null,
   "metadata": {},
   "outputs": [],
   "source": [
    "rfc = RandomForestClassifier(n_estimators=100, max_features=2, random_state=seed)\n",
    "\n",
    "rfc_cv = cross_val_score(rfc, X_train, y_train, cv=10, scoring=\"accuracy\")"
   ]
  },
  {
   "cell_type": "code",
   "execution_count": null,
   "metadata": {},
   "outputs": [
    {
     "data": {
      "text/plain": [
       "array([0.44625, 0.4175 , 0.44625, 0.43375, 0.4325 , 0.42875, 0.42375,\n",
       "       0.43875, 0.45375, 0.44125])"
      ]
     },
     "metadata": {},
     "output_type": "display_data"
    }
   ],
   "source": [
    "rfc_cv\n"
   ]
  },
  {
   "cell_type": "code",
   "execution_count": null,
   "metadata": {},
   "outputs": [
    {
     "data": {
      "text/plain": [
       "0.43624999999999997"
      ]
     },
     "metadata": {},
     "output_type": "display_data"
    }
   ],
   "source": [
    "rfc_cv.mean()\n"
   ]
  },
  {
   "cell_type": "code",
   "execution_count": null,
   "metadata": {},
   "outputs": [
    {
     "data": {
      "text/plain": [
       "0.010591860082157421"
      ]
     },
     "metadata": {},
     "output_type": "display_data"
    }
   ],
   "source": [
    "rfc_cv.std()\n"
   ]
  },
  {
   "cell_type": "code",
   "execution_count": null,
   "metadata": {},
   "outputs": [
    {
     "data": {
      "text/plain": [
       "{'max_depth': 5, 'min_samples_split': 8, 'n_estimators': 100}"
      ]
     },
     "metadata": {},
     "output_type": "display_data"
    }
   ],
   "source": [
    "parameters = {\"n_estimators\":[50,100,150],\n",
    "              \"max_depth\": [3,4,5],\n",
    "              \"min_samples_split\": [4,8,12]\n",
    "              }\n",
    "\n",
    "rf_gs = GridSearchCV(rfc, parameters, cv=5, scoring=\"neg_mean_squared_error\")\n",
    "\n",
    "rf_gs.fit(X_train, y_train)\n",
    "rf_gs.best_params_"
   ]
  },
  {
   "cell_type": "code",
   "execution_count": null,
   "metadata": {},
   "outputs": [
    {
     "name": "stdout",
     "output_type": "stream",
     "text": [
      "Accuracy 0.515\n",
      "MSE 1.242\n"
     ]
    }
   ],
   "source": [
    "rfc_2 = RandomForestClassifier(max_depth=5, min_samples_split=8, n_estimators=100)\n",
    "\n",
    "rfc_2.fit(X_train, y_train)\n",
    "\n",
    "y_pred = rfc_2.predict(X_test)\n",
    "\n",
    "print(\"Accuracy\", accuracy_score(y_test, y_pred))\n",
    "print(\"MSE\", mean_squared_error(y_test, y_pred))"
   ]
  },
  {
   "cell_type": "code",
   "execution_count": null,
   "metadata": {},
   "outputs": [],
   "source": []
  }
 ],
 "metadata": {
  "kernelspec": {
   "display_name": "Python 3",
   "language": "python",
   "name": "python3"
  },
  "language_info": {
   "codemirror_mode": {
    "name": "ipython",
    "version": 3
   },
   "file_extension": ".py",
   "mimetype": "text/x-python",
   "name": "python",
   "nbconvert_exporter": "python",
   "pygments_lexer": "ipython3",
   "version": "3.7.4"
  },
  "orig_nbformat": 4,
  "vscode": {
   "interpreter": {
    "hash": "207c308bf4f500f1746affa728cb3678c6c9733dbbb4e5042cb4d1135561ef1c"
   }
  }
 },
 "nbformat": 4,
 "nbformat_minor": 2
}
